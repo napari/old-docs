{
 "cells": [
  {
   "cell_type": "markdown",
   "id": "dc6f8174",
   "metadata": {},
   "source": [
    "(magicgui)=\n",
    "\n",
    "# Using `magicgui` in napari\n",
    "\n",
    "## magicgui\n",
    "\n",
    "[magicgui](https://github.com/napari/magicgui) is a python package that assists\n",
    "in building small, composable graphical user interfaces (widgets). It is a general\n",
    "abstraction layer on GUI toolkit backends (like Qt), with an emphasis on mapping\n",
    "python types to widgets.  In particular, it makes building widgets to represent\n",
    "function inputs easy:"
   ]
  },
  {
   "cell_type": "code",
   "execution_count": 1,
   "id": "00b5b699",
   "metadata": {},
   "outputs": [
    {
     "name": "stderr",
     "output_type": "stream",
     "text": [
      "QStandardPaths: XDG_RUNTIME_DIR not set, defaulting to '/tmp/runtime-runner'\n"
     ]
    },
    {
     "ename": "AttributeError",
     "evalue": "'Signal' object has no attribute '_signal_instances'",
     "output_type": "error",
     "traceback": [
      "\u001b[0;31m---------------------------------------------------------------------------\u001b[0m",
      "\u001b[0;31mAttributeError\u001b[0m                            Traceback (most recent call last)",
      "\u001b[0;32m/opt/hostedtoolcache/Python/3.8.12/x64/lib/python3.8/site-packages/magicgui/widgets/_bases/value_widget.py\u001b[0m in \u001b[0;36m_on_value_change\u001b[0;34m(self, *args)\u001b[0m\n\u001b[1;32m     57\u001b[0m         \u001b[0;32mif\u001b[0m \u001b[0mvalue\u001b[0m \u001b[0;32mis\u001b[0m \u001b[0mself\u001b[0m\u001b[0;34m.\u001b[0m\u001b[0mnull_value\u001b[0m \u001b[0;32mand\u001b[0m \u001b[0;32mnot\u001b[0m \u001b[0mself\u001b[0m\u001b[0;34m.\u001b[0m\u001b[0m_nullable\u001b[0m\u001b[0;34m:\u001b[0m\u001b[0;34m\u001b[0m\u001b[0;34m\u001b[0m\u001b[0m\n\u001b[1;32m     58\u001b[0m             \u001b[0;32mreturn\u001b[0m\u001b[0;34m\u001b[0m\u001b[0;34m\u001b[0m\u001b[0m\n\u001b[0;32m---> 59\u001b[0;31m         \u001b[0mself\u001b[0m\u001b[0;34m.\u001b[0m\u001b[0mchanged\u001b[0m\u001b[0;34m.\u001b[0m\u001b[0memit\u001b[0m\u001b[0;34m(\u001b[0m\u001b[0mvalue\u001b[0m\u001b[0;34m)\u001b[0m\u001b[0;34m\u001b[0m\u001b[0;34m\u001b[0m\u001b[0m\n\u001b[0m\u001b[1;32m     60\u001b[0m \u001b[0;34m\u001b[0m\u001b[0m\n\u001b[1;32m     61\u001b[0m     \u001b[0;32mdef\u001b[0m \u001b[0mget_value\u001b[0m\u001b[0;34m(\u001b[0m\u001b[0mself\u001b[0m\u001b[0;34m)\u001b[0m\u001b[0;34m:\u001b[0m\u001b[0;34m\u001b[0m\u001b[0;34m\u001b[0m\u001b[0m\n",
      "\u001b[0;32m/opt/hostedtoolcache/Python/3.8.12/x64/lib/python3.8/site-packages/magicgui/events.py\u001b[0m in \u001b[0;36m__get__\u001b[0;34m(self, instance, owner)\u001b[0m\n\u001b[1;32m    113\u001b[0m         \u001b[0;32mif\u001b[0m \u001b[0minstance\u001b[0m \u001b[0;32mis\u001b[0m \u001b[0;32mNone\u001b[0m\u001b[0;34m:\u001b[0m\u001b[0;34m\u001b[0m\u001b[0;34m\u001b[0m\u001b[0m\n\u001b[1;32m    114\u001b[0m             \u001b[0;32mreturn\u001b[0m \u001b[0mself\u001b[0m\u001b[0;34m\u001b[0m\u001b[0;34m\u001b[0m\u001b[0m\n\u001b[0;32m--> 115\u001b[0;31m         \u001b[0md\u001b[0m \u001b[0;34m=\u001b[0m \u001b[0mself\u001b[0m\u001b[0;34m.\u001b[0m\u001b[0m_signal_instances\u001b[0m\u001b[0;34m.\u001b[0m\u001b[0msetdefault\u001b[0m\u001b[0;34m(\u001b[0m\u001b[0mself\u001b[0m\u001b[0;34m,\u001b[0m \u001b[0mweakref\u001b[0m\u001b[0;34m.\u001b[0m\u001b[0mWeakKeyDictionary\u001b[0m\u001b[0;34m(\u001b[0m\u001b[0;34m)\u001b[0m\u001b[0;34m)\u001b[0m\u001b[0;34m\u001b[0m\u001b[0;34m\u001b[0m\u001b[0m\n\u001b[0m\u001b[1;32m    116\u001b[0m         return d.setdefault(\n\u001b[1;32m    117\u001b[0m             \u001b[0minstance\u001b[0m\u001b[0;34m,\u001b[0m\u001b[0;34m\u001b[0m\u001b[0;34m\u001b[0m\u001b[0m\n",
      "\u001b[0;32m/opt/hostedtoolcache/Python/3.8.12/x64/lib/python3.8/site-packages/psygnal/_signal.cpython-38-x86_64-linux-gnu.so\u001b[0m in \u001b[0;36mpsygnal._signal.Signal.__getattr__\u001b[0;34m()\u001b[0m\n",
      "\u001b[0;31mAttributeError\u001b[0m: 'Signal' object has no attribute '_signal_instances'"
     ]
    },
    {
     "ename": "AttributeError",
     "evalue": "'Signal' object has no attribute '_signal_instances'",
     "output_type": "error",
     "traceback": [
      "\u001b[0;31m---------------------------------------------------------------------------\u001b[0m",
      "\u001b[0;31mAttributeError\u001b[0m                            Traceback (most recent call last)",
      "\u001b[0;32m/opt/hostedtoolcache/Python/3.8.12/x64/lib/python3.8/site-packages/magicgui/backends/_qtpy/widgets.py\u001b[0m in \u001b[0;36m_converted_value\u001b[0;34m(value)\u001b[0m\n\u001b[1;32m    608\u001b[0m     \u001b[0;32mdef\u001b[0m \u001b[0m_mgui_bind_change_callback\u001b[0m\u001b[0;34m(\u001b[0m\u001b[0mself\u001b[0m\u001b[0;34m,\u001b[0m \u001b[0mcallback\u001b[0m\u001b[0;34m)\u001b[0m\u001b[0;34m:\u001b[0m\u001b[0;34m\u001b[0m\u001b[0;34m\u001b[0m\u001b[0m\n\u001b[1;32m    609\u001b[0m         \u001b[0;32mdef\u001b[0m \u001b[0m_converted_value\u001b[0m\u001b[0;34m(\u001b[0m\u001b[0mvalue\u001b[0m\u001b[0;34m)\u001b[0m\u001b[0;34m:\u001b[0m\u001b[0;34m\u001b[0m\u001b[0;34m\u001b[0m\u001b[0m\n\u001b[0;32m--> 610\u001b[0;31m             \u001b[0mcallback\u001b[0m\u001b[0;34m(\u001b[0m\u001b[0mself\u001b[0m\u001b[0;34m.\u001b[0m\u001b[0m_post_get_hook\u001b[0m\u001b[0;34m(\u001b[0m\u001b[0mvalue\u001b[0m\u001b[0;34m)\u001b[0m\u001b[0;34m)\u001b[0m\u001b[0;34m\u001b[0m\u001b[0;34m\u001b[0m\u001b[0m\n\u001b[0m\u001b[1;32m    611\u001b[0m \u001b[0;34m\u001b[0m\u001b[0m\n\u001b[1;32m    612\u001b[0m         \u001b[0mself\u001b[0m\u001b[0;34m.\u001b[0m\u001b[0m_qwidget\u001b[0m\u001b[0;34m.\u001b[0m\u001b[0mvalueChanged\u001b[0m\u001b[0;34m.\u001b[0m\u001b[0mconnect\u001b[0m\u001b[0;34m(\u001b[0m\u001b[0m_converted_value\u001b[0m\u001b[0;34m)\u001b[0m\u001b[0;34m\u001b[0m\u001b[0;34m\u001b[0m\u001b[0m\n",
      "\u001b[0;32m/opt/hostedtoolcache/Python/3.8.12/x64/lib/python3.8/site-packages/magicgui/widgets/_bases/value_widget.py\u001b[0m in \u001b[0;36m_on_value_change\u001b[0;34m(self, *args)\u001b[0m\n\u001b[1;32m     57\u001b[0m         \u001b[0;32mif\u001b[0m \u001b[0mvalue\u001b[0m \u001b[0;32mis\u001b[0m \u001b[0mself\u001b[0m\u001b[0;34m.\u001b[0m\u001b[0mnull_value\u001b[0m \u001b[0;32mand\u001b[0m \u001b[0;32mnot\u001b[0m \u001b[0mself\u001b[0m\u001b[0;34m.\u001b[0m\u001b[0m_nullable\u001b[0m\u001b[0;34m:\u001b[0m\u001b[0;34m\u001b[0m\u001b[0;34m\u001b[0m\u001b[0m\n\u001b[1;32m     58\u001b[0m             \u001b[0;32mreturn\u001b[0m\u001b[0;34m\u001b[0m\u001b[0;34m\u001b[0m\u001b[0m\n\u001b[0;32m---> 59\u001b[0;31m         \u001b[0mself\u001b[0m\u001b[0;34m.\u001b[0m\u001b[0mchanged\u001b[0m\u001b[0;34m.\u001b[0m\u001b[0memit\u001b[0m\u001b[0;34m(\u001b[0m\u001b[0mvalue\u001b[0m\u001b[0;34m)\u001b[0m\u001b[0;34m\u001b[0m\u001b[0;34m\u001b[0m\u001b[0m\n\u001b[0m\u001b[1;32m     60\u001b[0m \u001b[0;34m\u001b[0m\u001b[0m\n\u001b[1;32m     61\u001b[0m     \u001b[0;32mdef\u001b[0m \u001b[0mget_value\u001b[0m\u001b[0;34m(\u001b[0m\u001b[0mself\u001b[0m\u001b[0;34m)\u001b[0m\u001b[0;34m:\u001b[0m\u001b[0;34m\u001b[0m\u001b[0;34m\u001b[0m\u001b[0m\n",
      "\u001b[0;32m/opt/hostedtoolcache/Python/3.8.12/x64/lib/python3.8/site-packages/magicgui/events.py\u001b[0m in \u001b[0;36m__get__\u001b[0;34m(self, instance, owner)\u001b[0m\n\u001b[1;32m    113\u001b[0m         \u001b[0;32mif\u001b[0m \u001b[0minstance\u001b[0m \u001b[0;32mis\u001b[0m \u001b[0;32mNone\u001b[0m\u001b[0;34m:\u001b[0m\u001b[0;34m\u001b[0m\u001b[0;34m\u001b[0m\u001b[0m\n\u001b[1;32m    114\u001b[0m             \u001b[0;32mreturn\u001b[0m \u001b[0mself\u001b[0m\u001b[0;34m\u001b[0m\u001b[0;34m\u001b[0m\u001b[0m\n\u001b[0;32m--> 115\u001b[0;31m         \u001b[0md\u001b[0m \u001b[0;34m=\u001b[0m \u001b[0mself\u001b[0m\u001b[0;34m.\u001b[0m\u001b[0m_signal_instances\u001b[0m\u001b[0;34m.\u001b[0m\u001b[0msetdefault\u001b[0m\u001b[0;34m(\u001b[0m\u001b[0mself\u001b[0m\u001b[0;34m,\u001b[0m \u001b[0mweakref\u001b[0m\u001b[0;34m.\u001b[0m\u001b[0mWeakKeyDictionary\u001b[0m\u001b[0;34m(\u001b[0m\u001b[0;34m)\u001b[0m\u001b[0;34m)\u001b[0m\u001b[0;34m\u001b[0m\u001b[0;34m\u001b[0m\u001b[0m\n\u001b[0m\u001b[1;32m    116\u001b[0m         return d.setdefault(\n\u001b[1;32m    117\u001b[0m             \u001b[0minstance\u001b[0m\u001b[0;34m,\u001b[0m\u001b[0;34m\u001b[0m\u001b[0;34m\u001b[0m\u001b[0m\n",
      "\u001b[0;32m/opt/hostedtoolcache/Python/3.8.12/x64/lib/python3.8/site-packages/psygnal/_signal.cpython-38-x86_64-linux-gnu.so\u001b[0m in \u001b[0;36mpsygnal._signal.Signal.__getattr__\u001b[0;34m()\u001b[0m\n",
      "\u001b[0;31mAttributeError\u001b[0m: 'Signal' object has no attribute '_signal_instances'"
     ]
    },
    {
     "ename": "AttributeError",
     "evalue": "'Signal' object has no attribute '_signal_instances'",
     "output_type": "error",
     "traceback": [
      "\u001b[0;31m---------------------------------------------------------------------------\u001b[0m",
      "\u001b[0;31mAttributeError\u001b[0m                            Traceback (most recent call last)",
      "\u001b[0;32m/opt/hostedtoolcache/Python/3.8.12/x64/lib/python3.8/site-packages/magicgui/widgets/_bases/value_widget.py\u001b[0m in \u001b[0;36m_on_value_change\u001b[0;34m(self, *args)\u001b[0m\n\u001b[1;32m     57\u001b[0m         \u001b[0;32mif\u001b[0m \u001b[0mvalue\u001b[0m \u001b[0;32mis\u001b[0m \u001b[0mself\u001b[0m\u001b[0;34m.\u001b[0m\u001b[0mnull_value\u001b[0m \u001b[0;32mand\u001b[0m \u001b[0;32mnot\u001b[0m \u001b[0mself\u001b[0m\u001b[0;34m.\u001b[0m\u001b[0m_nullable\u001b[0m\u001b[0;34m:\u001b[0m\u001b[0;34m\u001b[0m\u001b[0;34m\u001b[0m\u001b[0m\n\u001b[1;32m     58\u001b[0m             \u001b[0;32mreturn\u001b[0m\u001b[0;34m\u001b[0m\u001b[0;34m\u001b[0m\u001b[0m\n\u001b[0;32m---> 59\u001b[0;31m         \u001b[0mself\u001b[0m\u001b[0;34m.\u001b[0m\u001b[0mchanged\u001b[0m\u001b[0;34m.\u001b[0m\u001b[0memit\u001b[0m\u001b[0;34m(\u001b[0m\u001b[0mvalue\u001b[0m\u001b[0;34m)\u001b[0m\u001b[0;34m\u001b[0m\u001b[0;34m\u001b[0m\u001b[0m\n\u001b[0m\u001b[1;32m     60\u001b[0m \u001b[0;34m\u001b[0m\u001b[0m\n\u001b[1;32m     61\u001b[0m     \u001b[0;32mdef\u001b[0m \u001b[0mget_value\u001b[0m\u001b[0;34m(\u001b[0m\u001b[0mself\u001b[0m\u001b[0;34m)\u001b[0m\u001b[0;34m:\u001b[0m\u001b[0;34m\u001b[0m\u001b[0;34m\u001b[0m\u001b[0m\n",
      "\u001b[0;32m/opt/hostedtoolcache/Python/3.8.12/x64/lib/python3.8/site-packages/magicgui/events.py\u001b[0m in \u001b[0;36m__get__\u001b[0;34m(self, instance, owner)\u001b[0m\n\u001b[1;32m    113\u001b[0m         \u001b[0;32mif\u001b[0m \u001b[0minstance\u001b[0m \u001b[0;32mis\u001b[0m \u001b[0;32mNone\u001b[0m\u001b[0;34m:\u001b[0m\u001b[0;34m\u001b[0m\u001b[0;34m\u001b[0m\u001b[0m\n\u001b[1;32m    114\u001b[0m             \u001b[0;32mreturn\u001b[0m \u001b[0mself\u001b[0m\u001b[0;34m\u001b[0m\u001b[0;34m\u001b[0m\u001b[0m\n\u001b[0;32m--> 115\u001b[0;31m         \u001b[0md\u001b[0m \u001b[0;34m=\u001b[0m \u001b[0mself\u001b[0m\u001b[0;34m.\u001b[0m\u001b[0m_signal_instances\u001b[0m\u001b[0;34m.\u001b[0m\u001b[0msetdefault\u001b[0m\u001b[0;34m(\u001b[0m\u001b[0mself\u001b[0m\u001b[0;34m,\u001b[0m \u001b[0mweakref\u001b[0m\u001b[0;34m.\u001b[0m\u001b[0mWeakKeyDictionary\u001b[0m\u001b[0;34m(\u001b[0m\u001b[0;34m)\u001b[0m\u001b[0;34m)\u001b[0m\u001b[0;34m\u001b[0m\u001b[0;34m\u001b[0m\u001b[0m\n\u001b[0m\u001b[1;32m    116\u001b[0m         return d.setdefault(\n\u001b[1;32m    117\u001b[0m             \u001b[0minstance\u001b[0m\u001b[0;34m,\u001b[0m\u001b[0;34m\u001b[0m\u001b[0;34m\u001b[0m\u001b[0m\n",
      "\u001b[0;32m/opt/hostedtoolcache/Python/3.8.12/x64/lib/python3.8/site-packages/psygnal/_signal.cpython-38-x86_64-linux-gnu.so\u001b[0m in \u001b[0;36mpsygnal._signal.Signal.__getattr__\u001b[0;34m()\u001b[0m\n",
      "\u001b[0;31mAttributeError\u001b[0m: 'Signal' object has no attribute '_signal_instances'"
     ]
    },
    {
     "ename": "AttributeError",
     "evalue": "'Signal' object has no attribute '_signal_instances'",
     "output_type": "error",
     "traceback": [
      "\u001b[0;31m---------------------------------------------------------------------------\u001b[0m",
      "\u001b[0;31mAttributeError\u001b[0m                            Traceback (most recent call last)",
      "\u001b[0;32m/opt/hostedtoolcache/Python/3.8.12/x64/lib/python3.8/site-packages/magicgui/widgets/_bases/value_widget.py\u001b[0m in \u001b[0;36m_on_value_change\u001b[0;34m(self, *args)\u001b[0m\n\u001b[1;32m     57\u001b[0m         \u001b[0;32mif\u001b[0m \u001b[0mvalue\u001b[0m \u001b[0;32mis\u001b[0m \u001b[0mself\u001b[0m\u001b[0;34m.\u001b[0m\u001b[0mnull_value\u001b[0m \u001b[0;32mand\u001b[0m \u001b[0;32mnot\u001b[0m \u001b[0mself\u001b[0m\u001b[0;34m.\u001b[0m\u001b[0m_nullable\u001b[0m\u001b[0;34m:\u001b[0m\u001b[0;34m\u001b[0m\u001b[0;34m\u001b[0m\u001b[0m\n\u001b[1;32m     58\u001b[0m             \u001b[0;32mreturn\u001b[0m\u001b[0;34m\u001b[0m\u001b[0;34m\u001b[0m\u001b[0m\n\u001b[0;32m---> 59\u001b[0;31m         \u001b[0mself\u001b[0m\u001b[0;34m.\u001b[0m\u001b[0mchanged\u001b[0m\u001b[0;34m.\u001b[0m\u001b[0memit\u001b[0m\u001b[0;34m(\u001b[0m\u001b[0mvalue\u001b[0m\u001b[0;34m)\u001b[0m\u001b[0;34m\u001b[0m\u001b[0;34m\u001b[0m\u001b[0m\n\u001b[0m\u001b[1;32m     60\u001b[0m \u001b[0;34m\u001b[0m\u001b[0m\n\u001b[1;32m     61\u001b[0m     \u001b[0;32mdef\u001b[0m \u001b[0mget_value\u001b[0m\u001b[0;34m(\u001b[0m\u001b[0mself\u001b[0m\u001b[0;34m)\u001b[0m\u001b[0;34m:\u001b[0m\u001b[0;34m\u001b[0m\u001b[0;34m\u001b[0m\u001b[0m\n",
      "\u001b[0;32m/opt/hostedtoolcache/Python/3.8.12/x64/lib/python3.8/site-packages/magicgui/events.py\u001b[0m in \u001b[0;36m__get__\u001b[0;34m(self, instance, owner)\u001b[0m\n\u001b[1;32m    113\u001b[0m         \u001b[0;32mif\u001b[0m \u001b[0minstance\u001b[0m \u001b[0;32mis\u001b[0m \u001b[0;32mNone\u001b[0m\u001b[0;34m:\u001b[0m\u001b[0;34m\u001b[0m\u001b[0;34m\u001b[0m\u001b[0m\n\u001b[1;32m    114\u001b[0m             \u001b[0;32mreturn\u001b[0m \u001b[0mself\u001b[0m\u001b[0;34m\u001b[0m\u001b[0;34m\u001b[0m\u001b[0m\n\u001b[0;32m--> 115\u001b[0;31m         \u001b[0md\u001b[0m \u001b[0;34m=\u001b[0m \u001b[0mself\u001b[0m\u001b[0;34m.\u001b[0m\u001b[0m_signal_instances\u001b[0m\u001b[0;34m.\u001b[0m\u001b[0msetdefault\u001b[0m\u001b[0;34m(\u001b[0m\u001b[0mself\u001b[0m\u001b[0;34m,\u001b[0m \u001b[0mweakref\u001b[0m\u001b[0;34m.\u001b[0m\u001b[0mWeakKeyDictionary\u001b[0m\u001b[0;34m(\u001b[0m\u001b[0;34m)\u001b[0m\u001b[0;34m)\u001b[0m\u001b[0;34m\u001b[0m\u001b[0;34m\u001b[0m\u001b[0m\n\u001b[0m\u001b[1;32m    116\u001b[0m         return d.setdefault(\n\u001b[1;32m    117\u001b[0m             \u001b[0minstance\u001b[0m\u001b[0;34m,\u001b[0m\u001b[0;34m\u001b[0m\u001b[0;34m\u001b[0m\u001b[0m\n",
      "\u001b[0;32m/opt/hostedtoolcache/Python/3.8.12/x64/lib/python3.8/site-packages/psygnal/_signal.cpython-38-x86_64-linux-gnu.so\u001b[0m in \u001b[0;36mpsygnal._signal.Signal.__getattr__\u001b[0;34m()\u001b[0m\n",
      "\u001b[0;31mAttributeError\u001b[0m: 'Signal' object has no attribute '_signal_instances'"
     ]
    },
    {
     "ename": "AttributeError",
     "evalue": "'Signal' object has no attribute '_signal_instances'",
     "output_type": "error",
     "traceback": [
      "\u001b[0;31m---------------------------------------------------------------------------\u001b[0m",
      "\u001b[0;31mAttributeError\u001b[0m                            Traceback (most recent call last)",
      "\u001b[0;32m/tmp/ipykernel_2685/68962791.py\u001b[0m in \u001b[0;36m<module>\u001b[0;34m\u001b[0m\n\u001b[1;32m      8\u001b[0m     \u001b[0mdropdown\u001b[0m\u001b[0;34m=\u001b[0m\u001b[0;34m{\u001b[0m\u001b[0;34m\"choices\"\u001b[0m\u001b[0;34m:\u001b[0m \u001b[0;34m[\u001b[0m\u001b[0;34m'first'\u001b[0m\u001b[0;34m,\u001b[0m \u001b[0;34m'second'\u001b[0m\u001b[0;34m,\u001b[0m \u001b[0;34m'third'\u001b[0m\u001b[0;34m]\u001b[0m\u001b[0;34m}\u001b[0m\u001b[0;34m,\u001b[0m\u001b[0;34m\u001b[0m\u001b[0;34m\u001b[0m\u001b[0m\n\u001b[1;32m      9\u001b[0m )\n\u001b[0;32m---> 10\u001b[0;31m def widget_demo(\n\u001b[0m\u001b[1;32m     11\u001b[0m     \u001b[0mmaybe\u001b[0m\u001b[0;34m:\u001b[0m \u001b[0mbool\u001b[0m\u001b[0;34m,\u001b[0m\u001b[0;34m\u001b[0m\u001b[0;34m\u001b[0m\u001b[0m\n\u001b[1;32m     12\u001b[0m     \u001b[0msome_int\u001b[0m\u001b[0;34m:\u001b[0m \u001b[0mint\u001b[0m\u001b[0;34m,\u001b[0m\u001b[0;34m\u001b[0m\u001b[0;34m\u001b[0m\u001b[0m\n",
      "\u001b[0;32m/opt/hostedtoolcache/Python/3.8.12/x64/lib/python3.8/site-packages/magicgui/_magicgui.py\u001b[0m in \u001b[0;36minner_func\u001b[0;34m(func)\u001b[0m\n\u001b[1;32m    239\u001b[0m         \u001b[0;31m# MagicFactory is unnecessary if we are immediately instantiating the widget,\u001b[0m\u001b[0;34m\u001b[0m\u001b[0;34m\u001b[0m\u001b[0;34m\u001b[0m\u001b[0m\n\u001b[1;32m    240\u001b[0m         \u001b[0;31m# so we shortcut that and just return the FunctionGui here.\u001b[0m\u001b[0;34m\u001b[0m\u001b[0;34m\u001b[0m\u001b[0;34m\u001b[0m\u001b[0m\n\u001b[0;32m--> 241\u001b[0;31m         \u001b[0;32mreturn\u001b[0m \u001b[0mmagic_class\u001b[0m\u001b[0;34m(\u001b[0m\u001b[0mfunc\u001b[0m\u001b[0;34m,\u001b[0m \u001b[0;34m**\u001b[0m\u001b[0mkwargs\u001b[0m\u001b[0;34m)\u001b[0m\u001b[0;34m\u001b[0m\u001b[0;34m\u001b[0m\u001b[0m\n\u001b[0m\u001b[1;32m    242\u001b[0m \u001b[0;34m\u001b[0m\u001b[0m\n\u001b[1;32m    243\u001b[0m     \u001b[0;32mif\u001b[0m \u001b[0mfunction\u001b[0m \u001b[0;32mis\u001b[0m \u001b[0;32mNone\u001b[0m\u001b[0;34m:\u001b[0m\u001b[0;34m\u001b[0m\u001b[0;34m\u001b[0m\u001b[0m\n",
      "\u001b[0;32m/opt/hostedtoolcache/Python/3.8.12/x64/lib/python3.8/site-packages/magicgui/widgets/_function_gui.py\u001b[0m in \u001b[0;36m__init__\u001b[0;34m(self, function, call_button, layout, labels, tooltips, app, visible, auto_call, result_widget, param_options, name, persist, **kwargs)\u001b[0m\n\u001b[1;32m    160\u001b[0m             \u001b[0mlabels\u001b[0m\u001b[0;34m=\u001b[0m\u001b[0mlabels\u001b[0m\u001b[0;34m,\u001b[0m\u001b[0;34m\u001b[0m\u001b[0;34m\u001b[0m\u001b[0m\n\u001b[1;32m    161\u001b[0m             \u001b[0mvisible\u001b[0m\u001b[0;34m=\u001b[0m\u001b[0mvisible\u001b[0m\u001b[0;34m,\u001b[0m\u001b[0;34m\u001b[0m\u001b[0;34m\u001b[0m\u001b[0m\n\u001b[0;32m--> 162\u001b[0;31m             \u001b[0mwidgets\u001b[0m\u001b[0;34m=\u001b[0m\u001b[0mlist\u001b[0m\u001b[0;34m(\u001b[0m\u001b[0msig\u001b[0m\u001b[0;34m.\u001b[0m\u001b[0mwidgets\u001b[0m\u001b[0;34m(\u001b[0m\u001b[0mapp\u001b[0m\u001b[0;34m)\u001b[0m\u001b[0;34m.\u001b[0m\u001b[0mvalues\u001b[0m\u001b[0;34m(\u001b[0m\u001b[0;34m)\u001b[0m\u001b[0;34m)\u001b[0m\u001b[0;34m,\u001b[0m\u001b[0;34m\u001b[0m\u001b[0;34m\u001b[0m\u001b[0m\n\u001b[0m\u001b[1;32m    163\u001b[0m             \u001b[0mname\u001b[0m\u001b[0;34m=\u001b[0m\u001b[0mname\u001b[0m \u001b[0;32mor\u001b[0m \u001b[0mself\u001b[0m\u001b[0;34m.\u001b[0m\u001b[0m_callable_name\u001b[0m\u001b[0;34m,\u001b[0m\u001b[0;34m\u001b[0m\u001b[0;34m\u001b[0m\u001b[0m\n\u001b[1;32m    164\u001b[0m         )\n",
      "\u001b[0;32m/opt/hostedtoolcache/Python/3.8.12/x64/lib/python3.8/site-packages/magicgui/signature.py\u001b[0m in \u001b[0;36mwidgets\u001b[0;34m(self, app)\u001b[0m\n\u001b[1;32m    220\u001b[0m         \u001b[0;34m\"\"\"Return mapping from parameters to widgets for all params in Signature.\"\"\"\u001b[0m\u001b[0;34m\u001b[0m\u001b[0;34m\u001b[0m\u001b[0m\n\u001b[1;32m    221\u001b[0m         return MappingProxyType(\n\u001b[0;32m--> 222\u001b[0;31m             \u001b[0;34m{\u001b[0m\u001b[0mn\u001b[0m\u001b[0;34m:\u001b[0m \u001b[0mp\u001b[0m\u001b[0;34m.\u001b[0m\u001b[0mto_widget\u001b[0m\u001b[0;34m(\u001b[0m\u001b[0mapp\u001b[0m\u001b[0;34m)\u001b[0m \u001b[0;32mfor\u001b[0m \u001b[0mn\u001b[0m\u001b[0;34m,\u001b[0m \u001b[0mp\u001b[0m \u001b[0;32min\u001b[0m \u001b[0mself\u001b[0m\u001b[0;34m.\u001b[0m\u001b[0mparameters\u001b[0m\u001b[0;34m.\u001b[0m\u001b[0mitems\u001b[0m\u001b[0;34m(\u001b[0m\u001b[0;34m)\u001b[0m\u001b[0;34m}\u001b[0m\u001b[0;34m\u001b[0m\u001b[0;34m\u001b[0m\u001b[0m\n\u001b[0m\u001b[1;32m    223\u001b[0m         )\n\u001b[1;32m    224\u001b[0m \u001b[0;34m\u001b[0m\u001b[0m\n",
      "\u001b[0;32m/opt/hostedtoolcache/Python/3.8.12/x64/lib/python3.8/site-packages/magicgui/signature.py\u001b[0m in \u001b[0;36m<dictcomp>\u001b[0;34m(.0)\u001b[0m\n\u001b[1;32m    220\u001b[0m         \u001b[0;34m\"\"\"Return mapping from parameters to widgets for all params in Signature.\"\"\"\u001b[0m\u001b[0;34m\u001b[0m\u001b[0;34m\u001b[0m\u001b[0m\n\u001b[1;32m    221\u001b[0m         return MappingProxyType(\n\u001b[0;32m--> 222\u001b[0;31m             \u001b[0;34m{\u001b[0m\u001b[0mn\u001b[0m\u001b[0;34m:\u001b[0m \u001b[0mp\u001b[0m\u001b[0;34m.\u001b[0m\u001b[0mto_widget\u001b[0m\u001b[0;34m(\u001b[0m\u001b[0mapp\u001b[0m\u001b[0;34m)\u001b[0m \u001b[0;32mfor\u001b[0m \u001b[0mn\u001b[0m\u001b[0;34m,\u001b[0m \u001b[0mp\u001b[0m \u001b[0;32min\u001b[0m \u001b[0mself\u001b[0m\u001b[0;34m.\u001b[0m\u001b[0mparameters\u001b[0m\u001b[0;34m.\u001b[0m\u001b[0mitems\u001b[0m\u001b[0;34m(\u001b[0m\u001b[0;34m)\u001b[0m\u001b[0;34m}\u001b[0m\u001b[0;34m\u001b[0m\u001b[0;34m\u001b[0m\u001b[0m\n\u001b[0m\u001b[1;32m    223\u001b[0m         )\n\u001b[1;32m    224\u001b[0m \u001b[0;34m\u001b[0m\u001b[0m\n",
      "\u001b[0;32m/opt/hostedtoolcache/Python/3.8.12/x64/lib/python3.8/site-packages/magicgui/signature.py\u001b[0m in \u001b[0;36mto_widget\u001b[0;34m(self, app)\u001b[0m\n\u001b[1;32m    137\u001b[0m         \u001b[0mvalue\u001b[0m \u001b[0;34m=\u001b[0m \u001b[0mUNSET\u001b[0m \u001b[0;32mif\u001b[0m \u001b[0mself\u001b[0m\u001b[0;34m.\u001b[0m\u001b[0mdefault\u001b[0m \u001b[0;32mis\u001b[0m \u001b[0mself\u001b[0m\u001b[0;34m.\u001b[0m\u001b[0mempty\u001b[0m \u001b[0;32melse\u001b[0m \u001b[0mself\u001b[0m\u001b[0;34m.\u001b[0m\u001b[0mdefault\u001b[0m\u001b[0;34m\u001b[0m\u001b[0;34m\u001b[0m\u001b[0m\n\u001b[1;32m    138\u001b[0m         \u001b[0mannotation\u001b[0m\u001b[0;34m,\u001b[0m \u001b[0moptions\u001b[0m \u001b[0;34m=\u001b[0m \u001b[0msplit_annotated_type\u001b[0m\u001b[0;34m(\u001b[0m\u001b[0mself\u001b[0m\u001b[0;34m.\u001b[0m\u001b[0mannotation\u001b[0m\u001b[0;34m)\u001b[0m\u001b[0;34m\u001b[0m\u001b[0;34m\u001b[0m\u001b[0m\n\u001b[0;32m--> 139\u001b[0;31m         widget = create_widget(\n\u001b[0m\u001b[1;32m    140\u001b[0m             \u001b[0mname\u001b[0m\u001b[0;34m=\u001b[0m\u001b[0mself\u001b[0m\u001b[0;34m.\u001b[0m\u001b[0mname\u001b[0m\u001b[0;34m,\u001b[0m\u001b[0;34m\u001b[0m\u001b[0;34m\u001b[0m\u001b[0m\n\u001b[1;32m    141\u001b[0m             \u001b[0mvalue\u001b[0m\u001b[0;34m=\u001b[0m\u001b[0mvalue\u001b[0m\u001b[0;34m,\u001b[0m\u001b[0;34m\u001b[0m\u001b[0;34m\u001b[0m\u001b[0m\n",
      "\u001b[0;32m/opt/hostedtoolcache/Python/3.8.12/x64/lib/python3.8/site-packages/magicgui/widgets/_bases/create_widget.py\u001b[0m in \u001b[0;36mcreate_widget\u001b[0;34m(value, annotation, name, param_kind, label, gui_only, app, widget_type, options)\u001b[0m\n\u001b[1;32m     89\u001b[0m             \u001b[0mkwargs\u001b[0m\u001b[0;34m.\u001b[0m\u001b[0mupdate\u001b[0m\u001b[0;34m(\u001b[0m\u001b[0mopts\u001b[0m\u001b[0;34m)\u001b[0m\u001b[0;34m\u001b[0m\u001b[0;34m\u001b[0m\u001b[0m\n\u001b[1;32m     90\u001b[0m             \u001b[0mkwargs\u001b[0m\u001b[0;34m.\u001b[0m\u001b[0mpop\u001b[0m\u001b[0;34m(\u001b[0m\u001b[0;34m\"widget_type\"\u001b[0m\u001b[0;34m,\u001b[0m \u001b[0;32mNone\u001b[0m\u001b[0;34m)\u001b[0m\u001b[0;34m\u001b[0m\u001b[0;34m\u001b[0m\u001b[0m\n\u001b[0;32m---> 91\u001b[0;31m             \u001b[0mwidget\u001b[0m \u001b[0;34m=\u001b[0m \u001b[0mwdg_class\u001b[0m\u001b[0;34m(\u001b[0m\u001b[0;34m**\u001b[0m\u001b[0mkwargs\u001b[0m\u001b[0;34m)\u001b[0m\u001b[0;34m\u001b[0m\u001b[0;34m\u001b[0m\u001b[0m\n\u001b[0m\u001b[1;32m     92\u001b[0m             \u001b[0;32mif\u001b[0m \u001b[0m_kind\u001b[0m\u001b[0;34m:\u001b[0m\u001b[0;34m\u001b[0m\u001b[0;34m\u001b[0m\u001b[0m\n\u001b[1;32m     93\u001b[0m                 \u001b[0mwidget\u001b[0m\u001b[0;34m.\u001b[0m\u001b[0mparam_kind\u001b[0m \u001b[0;34m=\u001b[0m \u001b[0m_kind\u001b[0m\u001b[0;34m\u001b[0m\u001b[0;34m\u001b[0m\u001b[0m\n",
      "\u001b[0;32m/opt/hostedtoolcache/Python/3.8.12/x64/lib/python3.8/site-packages/magicgui/widgets/_concrete.py\u001b[0m in \u001b[0;36m__init__\u001b[0;34m(self, **kwargs)\u001b[0m\n\u001b[1;32m    162\u001b[0m                 \u001b[0mwidget\u001b[0m \u001b[0;34m=\u001b[0m \u001b[0mtransform\u001b[0m\u001b[0;34m(\u001b[0m\u001b[0mwidget\u001b[0m\u001b[0;34m)\u001b[0m\u001b[0;34m\u001b[0m\u001b[0;34m\u001b[0m\u001b[0m\n\u001b[1;32m    163\u001b[0m             \u001b[0mkwargs\u001b[0m\u001b[0;34m[\u001b[0m\u001b[0;34m\"widget_type\"\u001b[0m\u001b[0;34m]\u001b[0m \u001b[0;34m=\u001b[0m \u001b[0mwidget\u001b[0m\u001b[0;34m\u001b[0m\u001b[0;34m\u001b[0m\u001b[0m\n\u001b[0;32m--> 164\u001b[0;31m             \u001b[0msuper\u001b[0m\u001b[0;34m(\u001b[0m\u001b[0mcls\u001b[0m\u001b[0;34m,\u001b[0m \u001b[0mself\u001b[0m\u001b[0;34m)\u001b[0m\u001b[0;34m.\u001b[0m\u001b[0m__init__\u001b[0m\u001b[0;34m(\u001b[0m\u001b[0;34m**\u001b[0m\u001b[0mkwargs\u001b[0m\u001b[0;34m)\u001b[0m\u001b[0;34m\u001b[0m\u001b[0;34m\u001b[0m\u001b[0m\n\u001b[0m\u001b[1;32m    165\u001b[0m \u001b[0;34m\u001b[0m\u001b[0m\n\u001b[1;32m    166\u001b[0m         \u001b[0mcls\u001b[0m\u001b[0;34m.\u001b[0m\u001b[0m__init__\u001b[0m \u001b[0;34m=\u001b[0m \u001b[0m__init__\u001b[0m\u001b[0;34m\u001b[0m\u001b[0;34m\u001b[0m\u001b[0m\n",
      "\u001b[0;32m/opt/hostedtoolcache/Python/3.8.12/x64/lib/python3.8/site-packages/magicgui/widgets/_bases/categorical_widget.py\u001b[0m in \u001b[0;36m__init__\u001b[0;34m(self, choices, allow_multiple, **kwargs)\u001b[0m\n\u001b[1;32m     23\u001b[0m         \u001b[0mself\u001b[0m\u001b[0;34m.\u001b[0m\u001b[0m_allow_multiple\u001b[0m \u001b[0;34m=\u001b[0m \u001b[0mallow_multiple\u001b[0m\u001b[0;34m\u001b[0m\u001b[0;34m\u001b[0m\u001b[0m\n\u001b[1;32m     24\u001b[0m         \u001b[0mself\u001b[0m\u001b[0;34m.\u001b[0m\u001b[0m_default_choices\u001b[0m \u001b[0;34m=\u001b[0m \u001b[0mchoices\u001b[0m\u001b[0;34m\u001b[0m\u001b[0;34m\u001b[0m\u001b[0m\n\u001b[0;32m---> 25\u001b[0;31m         \u001b[0msuper\u001b[0m\u001b[0;34m(\u001b[0m\u001b[0;34m)\u001b[0m\u001b[0;34m.\u001b[0m\u001b[0m__init__\u001b[0m\u001b[0;34m(\u001b[0m\u001b[0;34m**\u001b[0m\u001b[0mkwargs\u001b[0m\u001b[0;34m)\u001b[0m\u001b[0;34m\u001b[0m\u001b[0;34m\u001b[0m\u001b[0m\n\u001b[0m\u001b[1;32m     26\u001b[0m \u001b[0;34m\u001b[0m\u001b[0m\n\u001b[1;32m     27\u001b[0m     \u001b[0;32mdef\u001b[0m \u001b[0m_post_init\u001b[0m\u001b[0;34m(\u001b[0m\u001b[0mself\u001b[0m\u001b[0;34m)\u001b[0m\u001b[0;34m:\u001b[0m\u001b[0;34m\u001b[0m\u001b[0;34m\u001b[0m\u001b[0m\n",
      "\u001b[0;32m/opt/hostedtoolcache/Python/3.8.12/x64/lib/python3.8/site-packages/magicgui/widgets/_bases/value_widget.py\u001b[0m in \u001b[0;36m__init__\u001b[0;34m(self, value, bind, nullable, **kwargs)\u001b[0m\n\u001b[1;32m     41\u001b[0m         \u001b[0mself\u001b[0m\u001b[0;34m.\u001b[0m\u001b[0m_bound_value\u001b[0m\u001b[0;34m:\u001b[0m \u001b[0mAny\u001b[0m \u001b[0;34m=\u001b[0m \u001b[0mbind\u001b[0m\u001b[0;34m\u001b[0m\u001b[0;34m\u001b[0m\u001b[0m\n\u001b[1;32m     42\u001b[0m         \u001b[0mself\u001b[0m\u001b[0;34m.\u001b[0m\u001b[0m_call_bound\u001b[0m\u001b[0;34m:\u001b[0m \u001b[0mbool\u001b[0m \u001b[0;34m=\u001b[0m \u001b[0;32mTrue\u001b[0m\u001b[0;34m\u001b[0m\u001b[0;34m\u001b[0m\u001b[0m\n\u001b[0;32m---> 43\u001b[0;31m         \u001b[0msuper\u001b[0m\u001b[0;34m(\u001b[0m\u001b[0;34m)\u001b[0m\u001b[0;34m.\u001b[0m\u001b[0m__init__\u001b[0m\u001b[0;34m(\u001b[0m\u001b[0;34m**\u001b[0m\u001b[0mkwargs\u001b[0m\u001b[0;34m)\u001b[0m\u001b[0;34m\u001b[0m\u001b[0;34m\u001b[0m\u001b[0m\n\u001b[0m\u001b[1;32m     44\u001b[0m         \u001b[0;32mif\u001b[0m \u001b[0mvalue\u001b[0m \u001b[0;32mis\u001b[0m \u001b[0;32mnot\u001b[0m \u001b[0mUNSET\u001b[0m\u001b[0;34m:\u001b[0m\u001b[0;34m\u001b[0m\u001b[0;34m\u001b[0m\u001b[0m\n\u001b[1;32m     45\u001b[0m             \u001b[0mself\u001b[0m\u001b[0;34m.\u001b[0m\u001b[0mvalue\u001b[0m \u001b[0;34m=\u001b[0m \u001b[0mvalue\u001b[0m\u001b[0;34m\u001b[0m\u001b[0;34m\u001b[0m\u001b[0m\n",
      "\u001b[0;32m/opt/hostedtoolcache/Python/3.8.12/x64/lib/python3.8/site-packages/magicgui/widgets/_bases/widget.py\u001b[0m in \u001b[0;36m__init__\u001b[0;34m(self, widget_type, name, annotation, label, tooltip, visible, enabled, gui_only, backend_kwargs, **extra)\u001b[0m\n\u001b[1;32m     95\u001b[0m         \u001b[0;31m# put the magicgui widget on the native object...may cause error on some backend\u001b[0m\u001b[0;34m\u001b[0m\u001b[0;34m\u001b[0m\u001b[0;34m\u001b[0m\u001b[0m\n\u001b[1;32m     96\u001b[0m         \u001b[0mself\u001b[0m\u001b[0;34m.\u001b[0m\u001b[0mnative\u001b[0m\u001b[0;34m.\u001b[0m\u001b[0m_magic_widget\u001b[0m \u001b[0;34m=\u001b[0m \u001b[0mself\u001b[0m\u001b[0;34m\u001b[0m\u001b[0;34m\u001b[0m\u001b[0m\n\u001b[0;32m---> 97\u001b[0;31m         \u001b[0mself\u001b[0m\u001b[0;34m.\u001b[0m\u001b[0m_post_init\u001b[0m\u001b[0;34m(\u001b[0m\u001b[0;34m)\u001b[0m\u001b[0;34m\u001b[0m\u001b[0;34m\u001b[0m\u001b[0m\n\u001b[0m\u001b[1;32m     98\u001b[0m         \u001b[0mself\u001b[0m\u001b[0;34m.\u001b[0m\u001b[0m_visible\u001b[0m\u001b[0;34m:\u001b[0m \u001b[0mbool\u001b[0m \u001b[0;34m=\u001b[0m \u001b[0;32mFalse\u001b[0m\u001b[0;34m\u001b[0m\u001b[0;34m\u001b[0m\u001b[0m\n\u001b[1;32m     99\u001b[0m         \u001b[0mself\u001b[0m\u001b[0;34m.\u001b[0m\u001b[0m_explicitly_hidden\u001b[0m\u001b[0;34m:\u001b[0m \u001b[0mbool\u001b[0m \u001b[0;34m=\u001b[0m \u001b[0;32mFalse\u001b[0m\u001b[0;34m\u001b[0m\u001b[0;34m\u001b[0m\u001b[0m\n",
      "\u001b[0;32m/opt/hostedtoolcache/Python/3.8.12/x64/lib/python3.8/site-packages/magicgui/widgets/_bases/categorical_widget.py\u001b[0m in \u001b[0;36m_post_init\u001b[0;34m(self)\u001b[0m\n\u001b[1;32m     28\u001b[0m         \u001b[0msuper\u001b[0m\u001b[0;34m(\u001b[0m\u001b[0;34m)\u001b[0m\u001b[0;34m.\u001b[0m\u001b[0m_post_init\u001b[0m\u001b[0;34m(\u001b[0m\u001b[0;34m)\u001b[0m\u001b[0;34m\u001b[0m\u001b[0;34m\u001b[0m\u001b[0m\n\u001b[1;32m     29\u001b[0m         \u001b[0mself\u001b[0m\u001b[0;34m.\u001b[0m\u001b[0mreset_choices\u001b[0m\u001b[0;34m(\u001b[0m\u001b[0;34m)\u001b[0m\u001b[0;34m\u001b[0m\u001b[0;34m\u001b[0m\u001b[0m\n\u001b[0;32m---> 30\u001b[0;31m         \u001b[0mself\u001b[0m\u001b[0;34m.\u001b[0m\u001b[0mparent_changed\u001b[0m\u001b[0;34m.\u001b[0m\u001b[0mconnect\u001b[0m\u001b[0;34m(\u001b[0m\u001b[0mself\u001b[0m\u001b[0;34m.\u001b[0m\u001b[0mreset_choices\u001b[0m\u001b[0;34m)\u001b[0m\u001b[0;34m\u001b[0m\u001b[0;34m\u001b[0m\u001b[0m\n\u001b[0m\u001b[1;32m     31\u001b[0m \u001b[0;34m\u001b[0m\u001b[0m\n\u001b[1;32m     32\u001b[0m     \u001b[0;34m@\u001b[0m\u001b[0mproperty\u001b[0m\u001b[0;34m\u001b[0m\u001b[0;34m\u001b[0m\u001b[0m\n",
      "\u001b[0;32m/opt/hostedtoolcache/Python/3.8.12/x64/lib/python3.8/site-packages/magicgui/events.py\u001b[0m in \u001b[0;36m__get__\u001b[0;34m(self, instance, owner)\u001b[0m\n\u001b[1;32m    113\u001b[0m         \u001b[0;32mif\u001b[0m \u001b[0minstance\u001b[0m \u001b[0;32mis\u001b[0m \u001b[0;32mNone\u001b[0m\u001b[0;34m:\u001b[0m\u001b[0;34m\u001b[0m\u001b[0;34m\u001b[0m\u001b[0m\n\u001b[1;32m    114\u001b[0m             \u001b[0;32mreturn\u001b[0m \u001b[0mself\u001b[0m\u001b[0;34m\u001b[0m\u001b[0;34m\u001b[0m\u001b[0m\n\u001b[0;32m--> 115\u001b[0;31m         \u001b[0md\u001b[0m \u001b[0;34m=\u001b[0m \u001b[0mself\u001b[0m\u001b[0;34m.\u001b[0m\u001b[0m_signal_instances\u001b[0m\u001b[0;34m.\u001b[0m\u001b[0msetdefault\u001b[0m\u001b[0;34m(\u001b[0m\u001b[0mself\u001b[0m\u001b[0;34m,\u001b[0m \u001b[0mweakref\u001b[0m\u001b[0;34m.\u001b[0m\u001b[0mWeakKeyDictionary\u001b[0m\u001b[0;34m(\u001b[0m\u001b[0;34m)\u001b[0m\u001b[0;34m)\u001b[0m\u001b[0;34m\u001b[0m\u001b[0;34m\u001b[0m\u001b[0m\n\u001b[0m\u001b[1;32m    116\u001b[0m         return d.setdefault(\n\u001b[1;32m    117\u001b[0m             \u001b[0minstance\u001b[0m\u001b[0;34m,\u001b[0m\u001b[0;34m\u001b[0m\u001b[0;34m\u001b[0m\u001b[0m\n",
      "\u001b[0;32m/opt/hostedtoolcache/Python/3.8.12/x64/lib/python3.8/site-packages/psygnal/_signal.cpython-38-x86_64-linux-gnu.so\u001b[0m in \u001b[0;36mpsygnal._signal.Signal.__getattr__\u001b[0;34m()\u001b[0m\n",
      "\u001b[0;31mAttributeError\u001b[0m: 'Signal' object has no attribute '_signal_instances'"
     ]
    }
   ],
   "source": [
    "from magicgui import magicgui\n",
    "import datetime\n",
    "import pathlib\n",
    "\n",
    "@magicgui(\n",
    "    call_button=\"Calculate\",\n",
    "    slider_float={\"widget_type\": \"FloatSlider\", 'max': 10},\n",
    "    dropdown={\"choices\": ['first', 'second', 'third']},\n",
    ")\n",
    "def widget_demo(\n",
    "    maybe: bool,\n",
    "    some_int: int,\n",
    "    spin_float=3.14159,\n",
    "    slider_float=4.5,\n",
    "    string=\"Text goes here\",\n",
    "    dropdown='first',\n",
    "    date=datetime.datetime.now(),\n",
    "    filename=pathlib.Path('/some/path.ext')\n",
    "):\n",
    "    ...\n",
    "\n",
    "widget_demo.show()"
   ]
  },
  {
   "cell_type": "markdown",
   "id": "e730b20d",
   "metadata": {},
   "source": [
    "For more information on the features and usage of `magicgui`, see the [magicgui\n",
    "documentation](https://napari.org/magicgui).  `magicgui` does not require\n",
    "napari, but napari *does* provide support for using magicgui within napari. The\n",
    "purpose of this page is to document some of the conveniences provided by napari\n",
    "when using `magicgui` with napari-specific type annotations.\n",
    "\n",
    "## magicgui and type annotations\n",
    "\n",
    "`magicgui` uses [type hints](https://www.python.org/dev/peps/pep-0484/) to infer\n",
    "the appropriate widget type for a given function parameter, and to indicate a\n",
    "context-dependent action for the object returned from the function (in the\n",
    "absence of a type hint, the type of the default value will be used).  Third\n",
    "party packages (like `napari` in this case) may provide support for their types\n",
    "using\n",
    "[`magicgui.register_type`](https://napari.org/magicgui/usage/types_widgets.html#register-type).\n",
    "This is how using the type annotations described below leads to widgets and/or\n",
    "\"actions\" in napari.\n",
    "\n",
    "```{important}\n",
    "All of the type annotations described below *require* that the resulting widget\n",
    "be added to a napari viewer (either via `viewer.window.add_dock_widget`, or\n",
    "by providing a magicgui-based widget via the {func}`~napari.plugins.hook_specifications.napari_experimental_provide_dock_widget` plugin hook specification).\n",
    "```\n",
    "\n",
    "## Parameter Annotations\n",
    "\n",
    "The following napari types may be used as *parameter* type annotations in\n",
    "magicgui functions to get information from the napari viewer into your\n",
    "magicgui function. The consequence of each type annotation is described below:\n",
    "\n",
    "- any napari {class}`~napari.layers.Layer` type, such as\n",
    "  {class}`~napari.layers.Image` or {class}`~napari.layers.Points`\n",
    "- any of the `<LayerType>Data` types from {mod}`napari.types`, such as\n",
    "  {attr}`napari.types.ImageData` or  {attr}`napari.types.LabelsData`\n",
    "- {class}`napari.Viewer`\n",
    "\n",
    "### Annotating as a `Layer` subclass\n",
    "\n",
    "If you annotate one of your function parameters as a\n",
    "{class}`~napari.layers.Layer` subclass (such as {class}`~napari.layers.Image` or\n",
    "{class}`~napari.layers.Points`), it will be rendered as a\n",
    "{class}`~magicgui.widgets.ComboBox` widget (i.e. \"dropdown menu\"), where the\n",
    "options in the dropdown box are the layers of the corresponding type currently\n",
    "in the viewer.\n",
    "\n",
    "```python\n",
    "from napari.layers import Image\n",
    "\n",
    "@magicgui\n",
    "def my_widget(image: Image):\n",
    "    # do something with whatever image layer the user has selected\n",
    "    # note: it *may* be None! so your function should handle the null case\n",
    "    ...\n",
    "```\n",
    "\n",
    "Here's a complete example:"
   ]
  },
  {
   "cell_type": "code",
   "execution_count": null,
   "id": "59ae306b",
   "metadata": {
    "tags": [
     "remove-output"
    ]
   },
   "outputs": [],
   "source": [
    "import napari\n",
    "import numpy as np\n",
    "from napari.layers import Image\n",
    "\n",
    "@magicgui(image={'label': 'Pick an Image'})\n",
    "def my_widget(image: Image):\n",
    "    ...\n",
    "\n",
    "viewer = napari.view_image(np.random.rand(64, 64), name=\"My Image\")\n",
    "viewer.window.add_dock_widget(my_widget)"
   ]
  },
  {
   "cell_type": "markdown",
   "id": "027796ab",
   "metadata": {},
   "source": [
    "*Note the widget at the bottom with \"My Image\" as the currently selected option*"
   ]
  },
  {
   "cell_type": "code",
   "execution_count": null,
   "id": "523d8570",
   "metadata": {
    "tags": [
     "remove-input"
    ]
   },
   "outputs": [],
   "source": [
    "from napari.utils import nbscreenshot\n",
    "\n",
    "viewer.window._qt_window.resize(750, 550)\n",
    "nbscreenshot(viewer)"
   ]
  },
  {
   "cell_type": "markdown",
   "id": "26b6b031",
   "metadata": {},
   "source": [
    "### Annotating as `Layer`\n",
    "\n",
    "In the previous example, the dropdown menu will *only* show\n",
    "{class}`~napari.layers.Image` layers, because the parameter was annotated as an\n",
    "{class}`~napari.layers.Image`.  If you'd like a dropdown menu that allows the\n",
    "user to pick from *all* layers in the layer list, annotate your parameter as\n",
    "{class}`~napari.layers.Layer`\n",
    "\n",
    "```python\n",
    "from napari.layers import Layer\n",
    "\n",
    "@magicgui\n",
    "def my_widget(layer: Layer):\n",
    "    # do something with whatever layer the user has selected\n",
    "    # note: it *may* be None! so your function should handle the null case\n",
    "    ...\n",
    "```\n",
    "\n",
    "### Annotating as `napari.types.*Data`\n",
    "\n",
    "In the previous example, the object passed to your function will be the actual\n",
    "{class}`~napari.layers.Layer` instance, meaning you will need to access any\n",
    "attributes (like `layer.data`) on your own.  If your function is designed to\n",
    "accept a numpy array, you can use any of the special `<LayerType>Data` types\n",
    "from {mod}`napari.types` to indicate that you only want the data attribute from\n",
    "the layer (where `<LayerType>` is one of the available layer types).  Here's an\n",
    "example using {attr}`napari.types.ImageData`\n",
    "\n",
    "```python\n",
    "from napari.types import ImageData\n",
    "import numpy as np\n",
    "\n",
    "@magicgui\n",
    "def my_widget(array: ImageData):\n",
    "    # note: it *may* be None! so your function should handle the null case\n",
    "    if array is not None:\n",
    "      assert isinstance(array, np.ndarray)  # it will be!\n",
    "```\n",
    "\n",
    "### Annotating as `napari.Viewer`\n",
    "\n",
    "Lastly, if you need to access the actual {class}`~napari.viewer.Viewer` instance\n",
    "in which the widget is docked, you can annotate one of your parameters as a\n",
    "{class}`napari.Viewer`.\n",
    "\n",
    "```python\n",
    "from napari import Viewer\n",
    "\n",
    "@magicgui\n",
    "def my_widget(viewer: Viewer):\n",
    "  ...\n",
    "```\n",
    "\n",
    "```{caution}\n",
    "Please use this sparingly, as a last resort. If you need to *add* layers\n",
    "to the viewer from your function, prefer one of the return-annotation methods\n",
    "described [below](#adding-layers-to-napari-from-your-magicgui-function).\n",
    "If you find that you require the viewer instance because of functionality that\n",
    "is otherwise missing here, please consider opening an issue in the\n",
    "[napari issue tracker](https://github.com/napari/napari/issues/new/choose),\n",
    "describing your use case.\n",
    "```\n",
    "\n",
    "## Return Annotations\n",
    "\n",
    "The following napari types may be used as *return* type annotations in `magicgui`\n",
    "functions to add layers to napari from your `magicgui` function. The consequence of\n",
    "each type is described below:\n",
    "\n",
    "- any napari {class}`~napari.layers.Layer` type, such as\n",
    "  {class}`~napari.layers.Image` or {class}`~napari.layers.Points`\n",
    "- any of the `<LayerType>Data` types from {mod}`napari.types`, such as\n",
    "  {attr}`napari.types.ImageData` or  {attr}`napari.types.LabelsData`\n",
    "- {attr}`napari.types.LayerDataTuple`\n",
    "\n",
    "### Returning a `Layer` subclass\n",
    "\n",
    "If you use a {class}`~napari.layers.Layer` subclass as a *return* annotation on a\n",
    "`magicgui` function, `napari` will interpet it to mean that the layer returned\n",
    "from the function should be added to the viewer.  The object returned from the\n",
    "function must be an actual {class}`~napari.layers.Layer` instance.\n",
    "\n",
    "```python\n",
    "from napari.layers import Image\n",
    "import numpy as np\n",
    "\n",
    "@magicgui\n",
    "def my_widget(ny: int=64, nx: int=64) -> Image:\n",
    "  return Image(np.random.rand(ny, nx), name='my Image')\n",
    "```\n",
    "\n",
    "Here's a complete example"
   ]
  },
  {
   "cell_type": "code",
   "execution_count": null,
   "id": "d0329836",
   "metadata": {
    "tags": [
     "remove-output"
    ]
   },
   "outputs": [],
   "source": [
    "@magicgui(call_button='Add Image')\n",
    "def my_widget(ny: int=64, nx: int=64) -> Image:\n",
    "  return Image(np.random.rand(ny, nx), name='My Image')\n",
    "\n",
    "viewer = napari.Viewer()\n",
    "viewer.window.add_dock_widget(my_widget, area='right')\n",
    "my_widget()  # \"call the widget\" to call the function.\n",
    "             # Normally this would be caused by some user UI interaction"
   ]
  },
  {
   "cell_type": "markdown",
   "id": "b5ba81a5",
   "metadata": {},
   "source": [
    "*Note the new \"My Image\" layer in the viewer as a result of having called the widget function.*"
   ]
  },
  {
   "cell_type": "code",
   "execution_count": null,
   "id": "1fd20f73",
   "metadata": {
    "tags": [
     "remove-input"
    ]
   },
   "outputs": [],
   "source": [
    "from napari.utils import nbscreenshot\n",
    "\n",
    "viewer.window._qt_window.resize(750, 550)\n",
    "nbscreenshot(viewer)"
   ]
  },
  {
   "cell_type": "markdown",
   "id": "7894cd51",
   "metadata": {},
   "source": [
    "```{note}\n",
    "With this method, a new layer will be added to the layer list each time the\n",
    "function is called.  To update an existing layer, you must use the\n",
    "`LayerDataTuple` approach described below\n",
    "```\n",
    "\n",
    "### Returning `napari.types.*Data`\n",
    "\n",
    "In the previous example, the object returned by the function had to be an actual\n",
    "{class}`~napari.layers.Layer` instance (in keeping with the return type\n",
    "annotation).  In many cases, you may only be interested in receiving and\n",
    "returning the layer {attr}`~napari.layers.Layer.data`  itself.  (There are\n",
    "*many* functions already written that accept and return a `numpy.ndarray`, for\n",
    "example). In this case, you may use a return type annotation of one the special\n",
    "`<LayerType>Data` types from {mod}`napari.types` to indicate that you want data\n",
    "returned by your function to be turned into the corresponding\n",
    "{class}`~napari.layers.Layer` type, and added to the viewer.\n",
    "\n",
    "For example, in combination with the {attr}`~napari.types.ImageData` paramater\n",
    "annotation [described above](#annotating-as-napari-types-data):"
   ]
  },
  {
   "cell_type": "code",
   "execution_count": null,
   "id": "ef26b742",
   "metadata": {
    "tags": [
     "remove-output"
    ]
   },
   "outputs": [],
   "source": [
    "from napari.types import LabelsData, ImageData\n",
    "\n",
    "@magicgui(call_button='Run Threshold')\n",
    "def threshold(image: ImageData, threshold: int = 75) -> LabelsData:\n",
    "    \"\"\"Threshold an image and return a mask.\"\"\"\n",
    "    return (image > threshold).astype(int)\n",
    "\n",
    "viewer = napari.view_image(np.random.randint(0, 100, (64, 64)))\n",
    "viewer.window.add_dock_widget(threshold)\n",
    "threshold()  # \"call the widget\" to call the function.\n",
    "             # Normally this would be caused by some user UI interaction"
   ]
  },
  {
   "cell_type": "code",
   "execution_count": null,
   "id": "588e4ee3",
   "metadata": {
    "tags": [
     "remove-input"
    ]
   },
   "outputs": [],
   "source": [
    "from napari.utils import nbscreenshot\n",
    "\n",
    "viewer.window._qt_window.resize(750, 550)\n",
    "nbscreenshot(viewer)"
   ]
  },
  {
   "cell_type": "markdown",
   "id": "fc56b3ae",
   "metadata": {},
   "source": [
    "### Returning `napari.types.LayerDataTuple`\n",
    "\n",
    "The most flexible return type annotation is {attr}`napari.types.LayerDataTuple`:\n",
    "it gives you full control over the layer that will be created and added to the\n",
    "viewer.  (It also lets you update an existing layer with a matching name).\n",
    "\n",
    "A {attr}`~napari.types.LayerDataTuple` is a {class}`tuple` in one of the\n",
    "following three forms:\n",
    "\n",
    "1. `(layer_data,)`\n",
    "   - a single item tuple containing only layer data (will be interpreted as an image).\n",
    "2. `(layer_data, {})`\n",
    "   - a 2-tuple of `layer_data` and a metadata {class}`dict`. the keys in the\n",
    "     metadata `dict` must be valid keyword arguments to the corresponding\n",
    "     {class}`napari.layers.Layer` constructor.\n",
    "3. `(layer_data, {}, 'layer_type')`\n",
    "   - a 3-tuple of data, metadata, and layer type string.`layer_type` should be a\n",
    "     lowercase string form of one of the layer types (like `'points'`,\n",
    "     `'shapes'`, etc...).  If omitted, the layer type is assumed to be\n",
    "     `'image'`.\n",
    "\n",
    "The following are all valid {attr}`napari.types.LayerDataTuple` examples:\n",
    "\n",
    "```python\n",
    "# an image array\n",
    "(np.random.rand(64, 64),) \n",
    "\n",
    "# an image with name and custom blending mode\n",
    "(np.random.rand(64, 64), {'name': 'My Image', 'blending': 'additive'})\n",
    "\n",
    "# an empty points layer\n",
    "(None, {}, 'points')\n",
    "\n",
    "# points with properties\n",
    "(np.random.rand(20, 2), {'properties': {'values': np.random.rand(20)}}, 'points')\n",
    "```\n",
    "\n",
    "An example of using a {attr}`~napari.types.LayerDataTuple` return annotation in\n",
    "a `magicgui` function:"
   ]
  },
  {
   "cell_type": "code",
   "execution_count": null,
   "id": "0d9de5be",
   "metadata": {
    "tags": [
     "remove-output"
    ]
   },
   "outputs": [],
   "source": [
    "import napari.types\n",
    "\n",
    "@magicgui(call_button='Make Points')\n",
    "def make_points(n_points=40) -> napari.types.LayerDataTuple:\n",
    "  data = 500 * np.random.rand(n_points, 2)\n",
    "  props = {'values': np.random.rand(n_points)}\n",
    "  return (data, {'properties': props}, 'points')\n",
    "\n",
    "viewer = napari.Viewer()\n",
    "viewer.window.add_dock_widget(make_points)\n",
    "make_points()  # \"call the widget\" to call the function.\n",
    "               # Normally this would be caused by some user UI interaction"
   ]
  },
  {
   "cell_type": "code",
   "execution_count": null,
   "id": "9bef720b",
   "metadata": {
    "tags": [
     "remove-input"
    ]
   },
   "outputs": [],
   "source": [
    "from napari.utils import nbscreenshot\n",
    "\n",
    "viewer.window._qt_window.resize(750, 550)\n",
    "nbscreenshot(viewer)"
   ]
  },
  {
   "cell_type": "markdown",
   "id": "7716ade1",
   "metadata": {},
   "source": [
    "### Returning `List[napari.types.LayerDataTuple]`\n",
    "\n",
    "You can also create multiple layers by returning a list of\n",
    "{attr}`~napari.types.LayerDataTuple`.\n",
    "\n",
    "```python\n",
    "from typing import List\n",
    "\n",
    "@magicgui\n",
    "def make_points(...) -> List[napari.types.LayerDataTuple]:\n",
    "  ...\n",
    "```\n",
    "\n",
    "```{note}\n",
    "Note: the `List[]` syntax here is optional from the perspective of `napari`.  You\n",
    "can return either a single tuple or a list of tuples and they will all be added\n",
    "to the viewer as long as you use either `List[napari.types.LayerDataTuple]` or \n",
    "`napari.types.LayerDataTuple`.  If you want your code to be properly typed, however,\n",
    "your return type must match your return annotation.\n",
    "```\n",
    "\n",
    "### Updating an existing Layer\n",
    "\n",
    "The default behavior is to add a new layer to the viewer for each\n",
    "`LayerDataTuple` returned by a magicgui function. By providing a unique\n",
    "`name` key in your {attr}`~napari.types.LayerDataTuple` metadata dict, you can\n",
    "update an existing layer, rather than creating a new layer each time the\n",
    "function is called:"
   ]
  },
  {
   "cell_type": "code",
   "execution_count": null,
   "id": "bf41984d",
   "metadata": {
    "tags": [
     "remove-output"
    ]
   },
   "outputs": [],
   "source": [
    "@magicgui(call_button='Make Points', n_points={'maximum': 200})\n",
    "def make_points(n_points=40) -> napari.types.LayerDataTuple:\n",
    "  data = 500 * np.random.rand(n_points, 2)\n",
    "  return (data, {'name': 'My Points'}, 'points')\n",
    "\n",
    "viewer = napari.Viewer()\n",
    "viewer.window.add_dock_widget(make_points)\n",
    "# calling this multiple times will just update 'My Points'\n",
    "make_points()\n",
    "make_points.n_points.value = 80\n",
    "make_points()\n",
    "make_points.n_points.value = 120\n",
    "make_points()"
   ]
  },
  {
   "cell_type": "code",
   "execution_count": null,
   "id": "47ce4ace",
   "metadata": {
    "tags": [
     "remove-input"
    ]
   },
   "outputs": [],
   "source": [
    "from napari.utils import nbscreenshot\n",
    "\n",
    "viewer.window._qt_window.resize(750, 550)\n",
    "nbscreenshot(viewer)"
   ]
  },
  {
   "cell_type": "markdown",
   "id": "deaa60a2",
   "metadata": {},
   "source": [
    "## Avoid imports with forward references\n",
    "\n",
    "Sometimes, it is undesirable to import and/or depend on `napari` directly just\n",
    "to provide type annotations.  It is possible to avoid importing `napari`\n",
    "entirely by annotating with the string form of the napari type.  This is called\n",
    "a [Forward\n",
    "reference](https://www.python.org/dev/peps/pep-0484/#forward-references):\n",
    "\n",
    "```python\n",
    "@magicgui\n",
    "def my_func(data: 'napari.types.ImageData') -> 'napari.types.ImageData':\n",
    "    ...\n",
    "```\n",
    "\n",
    ":::{tip}\n",
    "\n",
    "If you'd like to maintain IDE type support and autocompletion, you can\n",
    "do so by hiding the napari imports inside of a {attr}`typing.TYPE_CHECKING`\n",
    "clause:\n",
    "\n",
    "```python\n",
    "from typing import TYPE_CHECKING\n",
    "\n",
    "if TYPE_CHECKING:\n",
    "  import napari\n",
    "\n",
    "@magicgui\n",
    "def my_func(data: 'napari.types.ImageData') -> 'napari.types.ImageData':\n",
    "    ...\n",
    "```\n",
    "\n",
    "This will not require `napari` at runtime, but if it is installed in your\n",
    "development environment, you will still get all the type inference.\n",
    "\n",
    ":::\n",
    "\n",
    "## Using `magicgui` in napari plugin widgets\n",
    "\n",
    "Using `magicgui` can be an effective way to generate widgets for use in napari\n",
    "[plugins](../plugins/index.md), in particular the\n",
    "{func}`~napari.plugins.hook_specifications.napari_experimental_provide_dock_widget`\n",
    "plugin hook specification.  There is an important distinction to be made,\n",
    "however, between using `magicgui` with `viewer.window.add_dock_widget`, and\n",
    "using it with\n",
    "{func}`~napari.plugins.hook_specifications.napari_experimental_provide_dock_widget`.\n",
    "\n",
    "`viewer.window.add_dock_widget` expects an *instance* of a widget, like a\n",
    "{class}`magicgui.widgets.Widget` or a {class}`qtpy.QtWidgets.QWidget`.\n",
    "{func}`~napari.plugins.hook_specifications.napari_experimental_provide_dock_widget`,\n",
    "on the other hand, expects a widget *class* (or, more broadly, a `callable` that\n",
    "returns a widget instance).  There are two ways to acheive this with `magicgui`.\n",
    "\n",
    "### `@magic_factory`\n",
    "\n",
    "In most cases, the {func}`@magicgui <magicgui.magicgui>` decorator used in the\n",
    "preceding examples can simply be replaced with the {func}`@magic_factory <magicgui.magic_factory>`\n",
    "decorator, to use it as a plugin dock widget.\n",
    "\n",
    "For example, the threshold widget [shown above](#returning-napari-types-data)\n",
    "could be provided as a napari plugin as follows:\n",
    "\n",
    "```python\n",
    "from magicgui import magic_factory\n",
    "from napari_plugin_engine import napari_hook_implementation\n",
    "\n",
    "@magic_factory(auto_call=True, threshold={'max': 2 ** 16})\n",
    "def threshold(\n",
    "    data: 'napari.types.ImageData', threshold: int\n",
    ") -> 'napari.types.LabelsData':\n",
    "    return (data > threshold).astype(int)\n",
    "\n",
    "@napari_hook_implementation\n",
    "def napari_experimental_provide_dock_widget():\n",
    "    return threshold\n",
    "```\n",
    "\n",
    ":::{note}\n",
    "{func}`@magic_factory <magicgui.magic_factory>` behaves very much like\n",
    "{func}`functools.partial`: it returns a callable that \"remembers\" some or\n",
    "all of the parameters required for a \"future\" call to {func}`magicgui.magicgui`.\n",
    "The parameters provided to {func}`@magic_factory <magicgui.magic_factory>` can\n",
    "also be overridden when creating a widget from a factory:\n",
    "\n",
    "```python\n",
    "@magic_factory(call_button=True)\n",
    "def my_factory(x: int):\n",
    "    ...\n",
    "\n",
    "widget1 = my_factory()\n",
    "widget2 = my_factory(call_button=False, x={'widget_type': 'Slider'})\n",
    "```\n",
    "\n",
    ":::\n",
    "\n",
    "### `magicgui.widgets.FunctionGui`\n",
    "\n",
    "The other option for using `magicgui` in plugins is to directly subclass\n",
    "{class}`magicgui.widgets.FunctionGui` (which is the type that is returned\n",
    "by the {func}`@magicgui <magicgui.magicgui>` decorator).\n",
    "\n",
    "```python\n",
    "from magicgui.widgets import FunctionGui\n",
    "\n",
    "def my_function(...):\n",
    "    ...\n",
    "\n",
    "class MyGui(FunctionGui):\n",
    "    def __init__(self):\n",
    "        super().__init__(\n",
    "          my_function,\n",
    "          call_button=True,\n",
    "          layout='vertical',\n",
    "          param_options={...}\n",
    "        )\n",
    "        # do whatever other initialization you want here\n",
    "\n",
    "@napari_hook_implementation\n",
    "def napari_experimental_provide_dock_widget():\n",
    "    return MyGui\n",
    "```"
   ]
  }
 ],
 "metadata": {
  "jupytext": {
   "cell_metadata_filter": "-all",
   "formats": "md:myst",
   "text_representation": {
    "extension": ".md",
    "format_name": "myst",
    "format_version": 0.12,
    "jupytext_version": "1.8.2"
   }
  },
  "kernelspec": {
   "display_name": "Python 3",
   "language": "python",
   "name": "python3"
  },
  "language_info": {
   "codemirror_mode": {
    "name": "ipython",
    "version": 3
   },
   "file_extension": ".py",
   "mimetype": "text/x-python",
   "name": "python",
   "nbconvert_exporter": "python",
   "pygments_lexer": "ipython3",
   "version": "3.8.12"
  },
  "source_map": [
   14,
   27,
   50,
   109,
   121,
   125,
   131,
   226,
   236,
   240,
   246,
   269,
   284,
   290,
   332,
   348,
   354,
   385,
   403,
   409
  ]
 },
 "nbformat": 4,
 "nbformat_minor": 5
}